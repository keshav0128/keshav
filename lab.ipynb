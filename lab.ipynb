{
 "cells": [
  {
   "cell_type": "code",
   "execution_count": 1,
   "metadata": {},
   "outputs": [
    {
     "name": "stdout",
     "output_type": "stream",
     "text": [
      "2\n"
     ]
    }
   ],
   "source": [
    "#lab assignment 3\n",
    "string=['aba','121','abc','122']\n",
    "count=0\n",
    "for i in range(len(string)):\n",
    "    x=string[i]\n",
    "    if len(string)>1 and x[0]==x[-1]:\n",
    "        count+=1\n",
    "print(count)        \n",
    "        "
   ]
  },
  {
   "cell_type": "code",
   "execution_count": 4,
   "metadata": {},
   "outputs": [
    {
     "name": "stdin",
     "output_type": "stream",
     "text": [
      " enter month(1-12)= 2\n"
     ]
    },
    {
     "name": "stdout",
     "output_type": "stream",
     "text": [
      "febuary\n",
      "no of days is 28/29\n"
     ]
    }
   ],
   "source": [
    "#lab assignment 2\n",
    "months=['january','febuary','march','april','may','june','july','august','september','october','november','december']\n",
    "month=input(' enter month(1-12)=')\n",
    "mon=int(month)\n",
    "month_name=months[mon-1]\n",
    "print(month_name)\n",
    "if mon==2:\n",
    "    print(\"no of days is 28/29\")\n",
    "elif mon in (4,6,9,11):\n",
    "    print(\"no of days is 30\")\n",
    "elif mon in (1,3,5,7,8,10,12):\n",
    "    print(\"no of days is 31\")\n",
    "else :\n",
    "    print(\"wrong selection of month\")\n"
   ]
  },
  {
   "cell_type": "code",
   "execution_count": null,
   "metadata": {},
   "outputs": [],
   "source": []
  }
 ],
 "metadata": {
  "kernelspec": {
   "display_name": "Python 3",
   "language": "python",
   "name": "python3"
  },
  "language_info": {
   "codemirror_mode": {
    "name": "ipython",
    "version": 3
   },
   "file_extension": ".py",
   "mimetype": "text/x-python",
   "name": "python",
   "nbconvert_exporter": "python",
   "pygments_lexer": "ipython3",
   "version": "3.8.3"
  }
 },
 "nbformat": 4,
 "nbformat_minor": 4
}
